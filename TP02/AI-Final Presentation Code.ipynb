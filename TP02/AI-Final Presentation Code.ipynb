{
 "cells": [
  {
   "cell_type": "code",
   "execution_count": 5,
   "id": "f162706f",
   "metadata": {},
   "outputs": [
    {
     "name": "stdout",
     "output_type": "stream",
     "text": [
      "{'neg': 0.0, 'neu': 0.247, 'pos': 0.753, 'compound': 0.7269}\n"
     ]
    }
   ],
   "source": [
    "#first we have to download the packages required: Neural Language Toolkit(nltk)\n",
    "import nltk\n",
    "#VADER stands for Valence Aware Dictionary and sEntiment Reasoner from NLTK\n",
    "#nltk.download('vader_lexicon') ###Make sure to comment this out after your first run\n",
    "from nltk.sentiment import SentimentIntensityAnalyzer\n",
    "\n",
    "#  initialize our sentiment analyzer\n",
    "sia = SentimentIntensityAnalyzer()\n",
    "\n",
    "# then input an example customer review\n",
    "review = \"Wow this is cool.\"\n",
    "\n",
    "# then let's analyze the sentiment of the review\n",
    "sentiment = sia.polarity_scores(review)\n",
    "\n",
    "# print the sentiment scores\n",
    "print(sentiment)"
   ]
  },
  {
   "cell_type": "code",
   "execution_count": 6,
   "id": "496a9c5b",
   "metadata": {},
   "outputs": [
    {
     "name": "stdout",
     "output_type": "stream",
     "text": [
      "This computer is great. It can get hit by a car flying through a Starbucks and still work.\n",
      "{'neg': 0.0, 'neu': 0.785, 'pos': 0.215, 'compound': 0.6249}\n",
      "\n",
      "Waste of my money.\n",
      "{'neg': 0.483, 'neu': 0.517, 'pos': 0.0, 'compound': -0.4215}\n",
      "\n",
      "can't turn off these stupid blue keys\n",
      "{'neg': 0.362, 'neu': 0.638, 'pos': 0.0, 'compound': -0.5267}\n",
      "\n",
      "The quality of the product was poor and not worth the price.\n",
      "{'neg': 0.323, 'neu': 0.677, 'pos': 0.0, 'compound': -0.5812}\n",
      "\n",
      "I had a wonderful experience and would highly recommend this company.\n",
      "{'neg': 0.0, 'neu': 0.519, 'pos': 0.481, 'compound': 0.7574}\n",
      "\n",
      "mine doubles as a fighter jet at the worst of times\n",
      "{'neg': 0.299, 'neu': 0.584, 'pos': 0.117, 'compound': -0.5423}\n",
      "\n",
      "Thank God I didnt follow the recommendation.\n",
      "{'neg': 0.0, 'neu': 0.465, 'pos': 0.535, 'compound': 0.5574}\n",
      "\n",
      "the little machine has never given out on me. Proud of you bb <3\n",
      "{'neg': 0.0, 'neu': 0.667, 'pos': 0.333, 'compound': 0.7184}\n",
      "\n",
      "Its not a Mac, but whaddya gonna do?\n",
      "{'neg': 0.0, 'neu': 1.0, 'pos': 0.0, 'compound': 0.0}\n",
      "\n",
      "terrible reccomendation. i feel like there may have been a sponsorship\n",
      "{'neg': 0.246, 'neu': 0.556, 'pos': 0.198, 'compound': -0.1531}\n",
      "\n"
     ]
    }
   ],
   "source": [
    "import nltk\n",
    "#nltk.download('vader_lexicon')\n",
    "from nltk.sentiment import SentimentIntensityAnalyzer\n",
    "\n",
    "# initialize sentiment analyzer\n",
    "sia = SentimentIntensityAnalyzer()\n",
    "\n",
    "# list of customer reviews\n",
    "reviews = [\n",
    "    \"This computer is great. It can get hit by a car flying through a Starbucks and still work.\",\n",
    "    \"Waste of my money.\",\n",
    "    \"can't turn off these stupid blue keys\",\n",
    "    \"The quality of the product was poor and not worth the price.\",\n",
    "    \"I had a wonderful experience and would highly recommend this company.\",\n",
    "    'mine doubles as a fighter jet at the worst of times',\n",
    "    'Thank God I didnt follow the recommendation.',\n",
    "    'the little machine has never given out on me. Proud of you bb <3',\n",
    "    'Its not a Mac, but whaddya gonna do?',\n",
    "    'terrible reccomendation. i feel like there may have been a sponsorship'\n",
    "]\n",
    "\n",
    "# analyze sentiment of each review using a for loop\n",
    "for review in reviews:\n",
    "    sentiment = sia.polarity_scores(review)\n",
    "    print(review)\n",
    "    print(sentiment)\n",
    "    print()\n",
    "\n",
    "# -1 represents extremely negative sentiment, 0 represents neutral sentiment, and 1 represents extremely positive sentiment."
   ]
  },
  {
   "cell_type": "code",
   "execution_count": 7,
   "id": "f37f56d8",
   "metadata": {},
   "outputs": [
    {
     "name": "stdout",
     "output_type": "stream",
     "text": [
      "Average neg score: 0.17\n",
      "Average neu score: 0.64\n",
      "Average pos score: 0.19\n",
      "Average compound score: 0.04\n"
     ]
    }
   ],
   "source": [
    "# initialize dictionaries to store sentiment scores and totals\n",
    "sentiment_scores = {\n",
    "    'neg': 0,\n",
    "    'neu': 0,\n",
    "    'pos': 0,\n",
    "    'compound': 0,\n",
    "}\n",
    "totals = {\n",
    "    'neg': 0,\n",
    "    'neu': 0,\n",
    "    'pos': 0,\n",
    "    'compound': 0,\n",
    "}\n",
    "\n",
    "# analyze sentiment of each review using a for loop\n",
    "for review in reviews:\n",
    "    sentiment = sia.polarity_scores(review)\n",
    "    for category in sentiment_scores:\n",
    "        sentiment_scores[category] += sentiment[category]\n",
    "\n",
    "# calculate average sentiment score for each category\n",
    "for category in totals:\n",
    "    totals[category] = sentiment_scores[category] / len(reviews)\n",
    "\n",
    "# print the average sentiment score for each category\n",
    "for category in totals:\n",
    "    print(f\"Average {category} score: {totals[category]:.2f}\")"
   ]
  }
 ],
 "metadata": {
  "kernelspec": {
   "display_name": "Python 3 (ipykernel)",
   "language": "python",
   "name": "python3"
  },
  "language_info": {
   "codemirror_mode": {
    "name": "ipython",
    "version": 3
   },
   "file_extension": ".py",
   "mimetype": "text/x-python",
   "name": "python",
   "nbconvert_exporter": "python",
   "pygments_lexer": "ipython3",
   "version": "3.9.12"
  }
 },
 "nbformat": 4,
 "nbformat_minor": 5
}
